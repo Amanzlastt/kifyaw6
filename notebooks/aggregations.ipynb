{
  "cells": [
    {
      "cell_type": "code",
      "execution_count": 22,
      "metadata": {
        "id": "uDZdbglVXZTO"
      },
      "outputs": [],
      "source": [
        "import pandas as pd\n"
      ]
    },
    {
      "cell_type": "code",
      "execution_count": 8,
      "metadata": {
        "colab": {
          "base_uri": "https://localhost:8080/"
        },
        "id": "MnfgiwUCXhmv",
        "outputId": "d54d5ead-44b3-440b-cc3c-0a0ac89e2e2b"
      },
      "outputs": [
        {
          "ename": "ModuleNotFoundError",
          "evalue": "No module named 'google'",
          "output_type": "error",
          "traceback": [
            "\u001b[1;31m---------------------------------------------------------------------------\u001b[0m",
            "\u001b[1;31mModuleNotFoundError\u001b[0m                       Traceback (most recent call last)",
            "Cell \u001b[1;32mIn[8], line 1\u001b[0m\n\u001b[1;32m----> 1\u001b[0m \u001b[38;5;28;01mfrom\u001b[39;00m\u001b[38;5;250m \u001b[39m\u001b[38;5;21;01mgoogle\u001b[39;00m\u001b[38;5;21;01m.\u001b[39;00m\u001b[38;5;21;01mcolab\u001b[39;00m\u001b[38;5;250m \u001b[39m\u001b[38;5;28;01mimport\u001b[39;00m drive\n\u001b[0;32m      2\u001b[0m drive\u001b[38;5;241m.\u001b[39mmount(\u001b[38;5;124m'\u001b[39m\u001b[38;5;124m/content/drive\u001b[39m\u001b[38;5;124m'\u001b[39m)\n",
            "\u001b[1;31mModuleNotFoundError\u001b[0m: No module named 'google'"
          ]
        }
      ],
      "source": [
        "from google.colab import drive\n",
        "drive.mount('/content/drive')"
      ]
    },
    {
      "cell_type": "code",
      "execution_count": 23,
      "metadata": {
        "id": "JiAXfDNYXZTU"
      },
      "outputs": [],
      "source": [
        "data = pd.read_csv(\"C:\\\\Users\\\\Aman\\\\Desktop\\\\kifyaw6\\\\data\\\\data.csv\")"
      ]
    },
    {
      "cell_type": "code",
      "execution_count": 24,
      "metadata": {
        "colab": {
          "base_uri": "https://localhost:8080/"
        },
        "id": "zd8VuwmKXZTX",
        "outputId": "40ba1334-884b-4288-9cc8-f9d1b37e89aa"
      },
      "outputs": [
        {
          "data": {
            "text/plain": [
              "Index(['TransactionId', 'BatchId', 'AccountId', 'SubscriptionId', 'CustomerId',\n",
              "       'CurrencyCode', 'CountryCode', 'ProviderId', 'ProductId',\n",
              "       'ProductCategory', 'ChannelId', 'Amount', 'Value',\n",
              "       'TransactionStartTime', 'PricingStrategy', 'FraudResult'],\n",
              "      dtype='object')"
            ]
          },
          "execution_count": 24,
          "metadata": {},
          "output_type": "execute_result"
        }
      ],
      "source": [
        "data.columns"
      ]
    },
    {
      "cell_type": "code",
      "execution_count": 25,
      "metadata": {
        "colab": {
          "base_uri": "https://localhost:8080/",
          "height": 586
        },
        "id": "LKwmLYJubcBb",
        "outputId": "c6b795fb-7ebf-4c18-f98e-4b621a81ba60"
      },
      "outputs": [
        {
          "data": {
            "text/plain": [
              "TransactionId           0\n",
              "BatchId                 0\n",
              "AccountId               0\n",
              "SubscriptionId          0\n",
              "CustomerId              0\n",
              "CurrencyCode            0\n",
              "CountryCode             0\n",
              "ProviderId              0\n",
              "ProductId               0\n",
              "ProductCategory         0\n",
              "ChannelId               0\n",
              "Amount                  0\n",
              "Value                   0\n",
              "TransactionStartTime    0\n",
              "PricingStrategy         0\n",
              "FraudResult             0\n",
              "dtype: int64"
            ]
          },
          "execution_count": 25,
          "metadata": {},
          "output_type": "execute_result"
        }
      ],
      "source": [
        "data.isna().sum()"
      ]
    },
    {
      "cell_type": "code",
      "execution_count": 26,
      "metadata": {
        "id": "9iBt4-_wXZTd"
      },
      "outputs": [],
      "source": [
        "# Group by 'CustomerId'\n",
        "grouped = data.groupby('CustomerId')\n",
        "\n",
        "# Create aggregate features\n",
        "data_aggregates = grouped.agg(\n",
        "    TotalTransactionAmount=('Amount', 'sum'),\n",
        "    AverageTransactionAmount=('Amount', 'mean'),\n",
        "    TransactionCount=('TransactionId', 'count'),\n",
        "    StdDevTransactionAmount=('Amount', 'std')\n",
        ").reset_index()\n",
        "\n",
        "# Join back to the original data (if needed)\n",
        "data = pd.merge(data, data_aggregates, on='CustomerId', how='left')"
      ]
    },
    {
      "cell_type": "code",
      "execution_count": 27,
      "metadata": {
        "id": "EueGyiLVa0D0"
      },
      "outputs": [],
      "source": [
        "# data = pd.get_dummies(data, columns=['ProductCategory', 'CountryCode', 'CurrencyCode'], drop_first=True)\n",
        "from sklearn.preprocessing import LabelEncoder\n",
        "\n",
        "le = LabelEncoder()\n",
        "data['ProductCategory'] = le.fit_transform(data['ProductCategory'])\n",
        "data['CountryCode'] = le.fit_transform(data['CountryCode'])\n",
        "data['CurrencyCode'] = le.fit_transform(data['CurrencyCode'])\n"
      ]
    },
    {
      "cell_type": "code",
      "execution_count": 28,
      "metadata": {
        "colab": {
          "base_uri": "https://localhost:8080/",
          "height": 226
        },
        "id": "ld0MbIz4chkr",
        "outputId": "5d8fe2a6-5c35-4018-971e-9316ffac0e83"
      },
      "outputs": [
        {
          "data": {
            "text/html": [
              "<div>\n",
              "<style scoped>\n",
              "    .dataframe tbody tr th:only-of-type {\n",
              "        vertical-align: middle;\n",
              "    }\n",
              "\n",
              "    .dataframe tbody tr th {\n",
              "        vertical-align: top;\n",
              "    }\n",
              "\n",
              "    .dataframe thead th {\n",
              "        text-align: right;\n",
              "    }\n",
              "</style>\n",
              "<table border=\"1\" class=\"dataframe\">\n",
              "  <thead>\n",
              "    <tr style=\"text-align: right;\">\n",
              "      <th></th>\n",
              "      <th>TransactionId</th>\n",
              "      <th>BatchId</th>\n",
              "      <th>AccountId</th>\n",
              "      <th>SubscriptionId</th>\n",
              "      <th>CustomerId</th>\n",
              "      <th>CurrencyCode</th>\n",
              "      <th>CountryCode</th>\n",
              "      <th>ProviderId</th>\n",
              "      <th>ProductId</th>\n",
              "      <th>ProductCategory</th>\n",
              "      <th>ChannelId</th>\n",
              "      <th>Amount</th>\n",
              "      <th>Value</th>\n",
              "      <th>TransactionStartTime</th>\n",
              "      <th>PricingStrategy</th>\n",
              "      <th>FraudResult</th>\n",
              "      <th>TotalTransactionAmount</th>\n",
              "      <th>AverageTransactionAmount</th>\n",
              "      <th>TransactionCount</th>\n",
              "      <th>StdDevTransactionAmount</th>\n",
              "    </tr>\n",
              "  </thead>\n",
              "  <tbody>\n",
              "    <tr>\n",
              "      <th>0</th>\n",
              "      <td>TransactionId_76871</td>\n",
              "      <td>BatchId_36123</td>\n",
              "      <td>AccountId_3957</td>\n",
              "      <td>SubscriptionId_887</td>\n",
              "      <td>CustomerId_4406</td>\n",
              "      <td>0</td>\n",
              "      <td>0</td>\n",
              "      <td>ProviderId_6</td>\n",
              "      <td>ProductId_10</td>\n",
              "      <td>0</td>\n",
              "      <td>ChannelId_3</td>\n",
              "      <td>1000.0</td>\n",
              "      <td>1000</td>\n",
              "      <td>2018-11-15T02:18:49Z</td>\n",
              "      <td>2</td>\n",
              "      <td>0</td>\n",
              "      <td>109921.75</td>\n",
              "      <td>923.712185</td>\n",
              "      <td>119</td>\n",
              "      <td>3042.294251</td>\n",
              "    </tr>\n",
              "    <tr>\n",
              "      <th>1</th>\n",
              "      <td>TransactionId_73770</td>\n",
              "      <td>BatchId_15642</td>\n",
              "      <td>AccountId_4841</td>\n",
              "      <td>SubscriptionId_3829</td>\n",
              "      <td>CustomerId_4406</td>\n",
              "      <td>0</td>\n",
              "      <td>0</td>\n",
              "      <td>ProviderId_4</td>\n",
              "      <td>ProductId_6</td>\n",
              "      <td>2</td>\n",
              "      <td>ChannelId_2</td>\n",
              "      <td>-20.0</td>\n",
              "      <td>20</td>\n",
              "      <td>2018-11-15T02:19:08Z</td>\n",
              "      <td>2</td>\n",
              "      <td>0</td>\n",
              "      <td>109921.75</td>\n",
              "      <td>923.712185</td>\n",
              "      <td>119</td>\n",
              "      <td>3042.294251</td>\n",
              "    </tr>\n",
              "    <tr>\n",
              "      <th>2</th>\n",
              "      <td>TransactionId_26203</td>\n",
              "      <td>BatchId_53941</td>\n",
              "      <td>AccountId_4229</td>\n",
              "      <td>SubscriptionId_222</td>\n",
              "      <td>CustomerId_4683</td>\n",
              "      <td>0</td>\n",
              "      <td>0</td>\n",
              "      <td>ProviderId_6</td>\n",
              "      <td>ProductId_1</td>\n",
              "      <td>0</td>\n",
              "      <td>ChannelId_3</td>\n",
              "      <td>500.0</td>\n",
              "      <td>500</td>\n",
              "      <td>2018-11-15T02:44:21Z</td>\n",
              "      <td>2</td>\n",
              "      <td>0</td>\n",
              "      <td>1000.00</td>\n",
              "      <td>500.000000</td>\n",
              "      <td>2</td>\n",
              "      <td>0.000000</td>\n",
              "    </tr>\n",
              "    <tr>\n",
              "      <th>3</th>\n",
              "      <td>TransactionId_380</td>\n",
              "      <td>BatchId_102363</td>\n",
              "      <td>AccountId_648</td>\n",
              "      <td>SubscriptionId_2185</td>\n",
              "      <td>CustomerId_988</td>\n",
              "      <td>0</td>\n",
              "      <td>0</td>\n",
              "      <td>ProviderId_1</td>\n",
              "      <td>ProductId_21</td>\n",
              "      <td>8</td>\n",
              "      <td>ChannelId_3</td>\n",
              "      <td>20000.0</td>\n",
              "      <td>21800</td>\n",
              "      <td>2018-11-15T03:32:55Z</td>\n",
              "      <td>2</td>\n",
              "      <td>0</td>\n",
              "      <td>228727.20</td>\n",
              "      <td>6019.136842</td>\n",
              "      <td>38</td>\n",
              "      <td>17169.241610</td>\n",
              "    </tr>\n",
              "    <tr>\n",
              "      <th>4</th>\n",
              "      <td>TransactionId_28195</td>\n",
              "      <td>BatchId_38780</td>\n",
              "      <td>AccountId_4841</td>\n",
              "      <td>SubscriptionId_3829</td>\n",
              "      <td>CustomerId_988</td>\n",
              "      <td>0</td>\n",
              "      <td>0</td>\n",
              "      <td>ProviderId_4</td>\n",
              "      <td>ProductId_6</td>\n",
              "      <td>2</td>\n",
              "      <td>ChannelId_2</td>\n",
              "      <td>-644.0</td>\n",
              "      <td>644</td>\n",
              "      <td>2018-11-15T03:34:21Z</td>\n",
              "      <td>2</td>\n",
              "      <td>0</td>\n",
              "      <td>228727.20</td>\n",
              "      <td>6019.136842</td>\n",
              "      <td>38</td>\n",
              "      <td>17169.241610</td>\n",
              "    </tr>\n",
              "  </tbody>\n",
              "</table>\n",
              "</div>"
            ],
            "text/plain": [
              "         TransactionId         BatchId       AccountId       SubscriptionId  \\\n",
              "0  TransactionId_76871   BatchId_36123  AccountId_3957   SubscriptionId_887   \n",
              "1  TransactionId_73770   BatchId_15642  AccountId_4841  SubscriptionId_3829   \n",
              "2  TransactionId_26203   BatchId_53941  AccountId_4229   SubscriptionId_222   \n",
              "3    TransactionId_380  BatchId_102363   AccountId_648  SubscriptionId_2185   \n",
              "4  TransactionId_28195   BatchId_38780  AccountId_4841  SubscriptionId_3829   \n",
              "\n",
              "        CustomerId  CurrencyCode  CountryCode    ProviderId     ProductId  \\\n",
              "0  CustomerId_4406             0            0  ProviderId_6  ProductId_10   \n",
              "1  CustomerId_4406             0            0  ProviderId_4   ProductId_6   \n",
              "2  CustomerId_4683             0            0  ProviderId_6   ProductId_1   \n",
              "3   CustomerId_988             0            0  ProviderId_1  ProductId_21   \n",
              "4   CustomerId_988             0            0  ProviderId_4   ProductId_6   \n",
              "\n",
              "   ProductCategory    ChannelId   Amount  Value  TransactionStartTime  \\\n",
              "0                0  ChannelId_3   1000.0   1000  2018-11-15T02:18:49Z   \n",
              "1                2  ChannelId_2    -20.0     20  2018-11-15T02:19:08Z   \n",
              "2                0  ChannelId_3    500.0    500  2018-11-15T02:44:21Z   \n",
              "3                8  ChannelId_3  20000.0  21800  2018-11-15T03:32:55Z   \n",
              "4                2  ChannelId_2   -644.0    644  2018-11-15T03:34:21Z   \n",
              "\n",
              "   PricingStrategy  FraudResult  TotalTransactionAmount  \\\n",
              "0                2            0               109921.75   \n",
              "1                2            0               109921.75   \n",
              "2                2            0                 1000.00   \n",
              "3                2            0               228727.20   \n",
              "4                2            0               228727.20   \n",
              "\n",
              "   AverageTransactionAmount  TransactionCount  StdDevTransactionAmount  \n",
              "0                923.712185               119              3042.294251  \n",
              "1                923.712185               119              3042.294251  \n",
              "2                500.000000                 2                 0.000000  \n",
              "3               6019.136842                38             17169.241610  \n",
              "4               6019.136842                38             17169.241610  "
            ]
          },
          "execution_count": 28,
          "metadata": {},
          "output_type": "execute_result"
        }
      ],
      "source": [
        "data.head()"
      ]
    },
    {
      "cell_type": "code",
      "execution_count": 29,
      "metadata": {
        "id": "Wb9EK7Rsb1H2"
      },
      "outputs": [],
      "source": [
        "# Fill missing numerical values with mean\n",
        "data['Amount'] = data['Amount'].fillna(data['Amount'].mean())\n",
        "\n",
        "# Fill missing categorical values with mode\n",
        "data['ProductCategory'] = data['ProductCategory'].fillna(data['ProductCategory'].mode()[0])\n"
      ]
    },
    {
      "cell_type": "code",
      "execution_count": 30,
      "metadata": {
        "id": "Zz_qnz1XetDu"
      },
      "outputs": [],
      "source": [
        "from sklearn.preprocessing import MinMaxScaler\n",
        "\n",
        "scaler = MinMaxScaler()\n",
        "numerical_features = ['Amount', 'Value', 'TotalTransactionAmount', 'AverageTransactionAmount']\n",
        "data[numerical_features] = scaler.fit_transform(data[numerical_features])\n"
      ]
    },
    {
      "cell_type": "code",
      "execution_count": 31,
      "metadata": {
        "id": "Q-5DjcE8ey4k"
      },
      "outputs": [],
      "source": [
        "from sklearn.preprocessing import StandardScaler\n",
        "\n",
        "scaler = StandardScaler()\n",
        "data[numerical_features] = scaler.fit_transform(data[numerical_features])\n",
        "\n",
        "\n"
      ]
    },
    {
      "cell_type": "code",
      "execution_count": 32,
      "metadata": {},
      "outputs": [
        {
          "data": {
            "text/html": [
              "<div>\n",
              "<style scoped>\n",
              "    .dataframe tbody tr th:only-of-type {\n",
              "        vertical-align: middle;\n",
              "    }\n",
              "\n",
              "    .dataframe tbody tr th {\n",
              "        vertical-align: top;\n",
              "    }\n",
              "\n",
              "    .dataframe thead th {\n",
              "        text-align: right;\n",
              "    }\n",
              "</style>\n",
              "<table border=\"1\" class=\"dataframe\">\n",
              "  <thead>\n",
              "    <tr style=\"text-align: right;\">\n",
              "      <th></th>\n",
              "      <th>TransactionId</th>\n",
              "      <th>BatchId</th>\n",
              "      <th>AccountId</th>\n",
              "      <th>SubscriptionId</th>\n",
              "      <th>CustomerId</th>\n",
              "      <th>CurrencyCode</th>\n",
              "      <th>CountryCode</th>\n",
              "      <th>ProviderId</th>\n",
              "      <th>ProductId</th>\n",
              "      <th>ProductCategory</th>\n",
              "      <th>ChannelId</th>\n",
              "      <th>Amount</th>\n",
              "      <th>Value</th>\n",
              "      <th>TransactionStartTime</th>\n",
              "      <th>PricingStrategy</th>\n",
              "      <th>FraudResult</th>\n",
              "      <th>TotalTransactionAmount</th>\n",
              "      <th>AverageTransactionAmount</th>\n",
              "      <th>TransactionCount</th>\n",
              "      <th>StdDevTransactionAmount</th>\n",
              "    </tr>\n",
              "  </thead>\n",
              "  <tbody>\n",
              "    <tr>\n",
              "      <th>0</th>\n",
              "      <td>TransactionId_76871</td>\n",
              "      <td>BatchId_36123</td>\n",
              "      <td>AccountId_3957</td>\n",
              "      <td>SubscriptionId_887</td>\n",
              "      <td>CustomerId_4406</td>\n",
              "      <td>0</td>\n",
              "      <td>0</td>\n",
              "      <td>ProviderId_6</td>\n",
              "      <td>ProductId_10</td>\n",
              "      <td>0</td>\n",
              "      <td>ChannelId_3</td>\n",
              "      <td>-0.046371</td>\n",
              "      <td>-0.072291</td>\n",
              "      <td>2018-11-15T02:18:49Z</td>\n",
              "      <td>2</td>\n",
              "      <td>0</td>\n",
              "      <td>0.170118</td>\n",
              "      <td>-0.067623</td>\n",
              "      <td>119</td>\n",
              "      <td>3042.294251</td>\n",
              "    </tr>\n",
              "    <tr>\n",
              "      <th>1</th>\n",
              "      <td>TransactionId_73770</td>\n",
              "      <td>BatchId_15642</td>\n",
              "      <td>AccountId_4841</td>\n",
              "      <td>SubscriptionId_3829</td>\n",
              "      <td>CustomerId_4406</td>\n",
              "      <td>0</td>\n",
              "      <td>0</td>\n",
              "      <td>ProviderId_4</td>\n",
              "      <td>ProductId_6</td>\n",
              "      <td>2</td>\n",
              "      <td>ChannelId_2</td>\n",
              "      <td>-0.054643</td>\n",
              "      <td>-0.080251</td>\n",
              "      <td>2018-11-15T02:19:08Z</td>\n",
              "      <td>2</td>\n",
              "      <td>0</td>\n",
              "      <td>0.170118</td>\n",
              "      <td>-0.067623</td>\n",
              "      <td>119</td>\n",
              "      <td>3042.294251</td>\n",
              "    </tr>\n",
              "    <tr>\n",
              "      <th>2</th>\n",
              "      <td>TransactionId_26203</td>\n",
              "      <td>BatchId_53941</td>\n",
              "      <td>AccountId_4229</td>\n",
              "      <td>SubscriptionId_222</td>\n",
              "      <td>CustomerId_4683</td>\n",
              "      <td>0</td>\n",
              "      <td>0</td>\n",
              "      <td>ProviderId_6</td>\n",
              "      <td>ProductId_1</td>\n",
              "      <td>0</td>\n",
              "      <td>ChannelId_3</td>\n",
              "      <td>-0.050426</td>\n",
              "      <td>-0.076352</td>\n",
              "      <td>2018-11-15T02:44:21Z</td>\n",
              "      <td>2</td>\n",
              "      <td>0</td>\n",
              "      <td>0.165122</td>\n",
              "      <td>-0.072568</td>\n",
              "      <td>2</td>\n",
              "      <td>0.000000</td>\n",
              "    </tr>\n",
              "    <tr>\n",
              "      <th>3</th>\n",
              "      <td>TransactionId_380</td>\n",
              "      <td>BatchId_102363</td>\n",
              "      <td>AccountId_648</td>\n",
              "      <td>SubscriptionId_2185</td>\n",
              "      <td>CustomerId_988</td>\n",
              "      <td>0</td>\n",
              "      <td>0</td>\n",
              "      <td>ProviderId_1</td>\n",
              "      <td>ProductId_21</td>\n",
              "      <td>8</td>\n",
              "      <td>ChannelId_3</td>\n",
              "      <td>0.107717</td>\n",
              "      <td>0.096648</td>\n",
              "      <td>2018-11-15T03:32:55Z</td>\n",
              "      <td>2</td>\n",
              "      <td>0</td>\n",
              "      <td>0.175567</td>\n",
              "      <td>-0.008155</td>\n",
              "      <td>38</td>\n",
              "      <td>17169.241610</td>\n",
              "    </tr>\n",
              "    <tr>\n",
              "      <th>4</th>\n",
              "      <td>TransactionId_28195</td>\n",
              "      <td>BatchId_38780</td>\n",
              "      <td>AccountId_4841</td>\n",
              "      <td>SubscriptionId_3829</td>\n",
              "      <td>CustomerId_988</td>\n",
              "      <td>0</td>\n",
              "      <td>0</td>\n",
              "      <td>ProviderId_4</td>\n",
              "      <td>ProductId_6</td>\n",
              "      <td>2</td>\n",
              "      <td>ChannelId_2</td>\n",
              "      <td>-0.059704</td>\n",
              "      <td>-0.075183</td>\n",
              "      <td>2018-11-15T03:34:21Z</td>\n",
              "      <td>2</td>\n",
              "      <td>0</td>\n",
              "      <td>0.175567</td>\n",
              "      <td>-0.008155</td>\n",
              "      <td>38</td>\n",
              "      <td>17169.241610</td>\n",
              "    </tr>\n",
              "  </tbody>\n",
              "</table>\n",
              "</div>"
            ],
            "text/plain": [
              "         TransactionId         BatchId       AccountId       SubscriptionId  \\\n",
              "0  TransactionId_76871   BatchId_36123  AccountId_3957   SubscriptionId_887   \n",
              "1  TransactionId_73770   BatchId_15642  AccountId_4841  SubscriptionId_3829   \n",
              "2  TransactionId_26203   BatchId_53941  AccountId_4229   SubscriptionId_222   \n",
              "3    TransactionId_380  BatchId_102363   AccountId_648  SubscriptionId_2185   \n",
              "4  TransactionId_28195   BatchId_38780  AccountId_4841  SubscriptionId_3829   \n",
              "\n",
              "        CustomerId  CurrencyCode  CountryCode    ProviderId     ProductId  \\\n",
              "0  CustomerId_4406             0            0  ProviderId_6  ProductId_10   \n",
              "1  CustomerId_4406             0            0  ProviderId_4   ProductId_6   \n",
              "2  CustomerId_4683             0            0  ProviderId_6   ProductId_1   \n",
              "3   CustomerId_988             0            0  ProviderId_1  ProductId_21   \n",
              "4   CustomerId_988             0            0  ProviderId_4   ProductId_6   \n",
              "\n",
              "   ProductCategory    ChannelId    Amount     Value  TransactionStartTime  \\\n",
              "0                0  ChannelId_3 -0.046371 -0.072291  2018-11-15T02:18:49Z   \n",
              "1                2  ChannelId_2 -0.054643 -0.080251  2018-11-15T02:19:08Z   \n",
              "2                0  ChannelId_3 -0.050426 -0.076352  2018-11-15T02:44:21Z   \n",
              "3                8  ChannelId_3  0.107717  0.096648  2018-11-15T03:32:55Z   \n",
              "4                2  ChannelId_2 -0.059704 -0.075183  2018-11-15T03:34:21Z   \n",
              "\n",
              "   PricingStrategy  FraudResult  TotalTransactionAmount  \\\n",
              "0                2            0                0.170118   \n",
              "1                2            0                0.170118   \n",
              "2                2            0                0.165122   \n",
              "3                2            0                0.175567   \n",
              "4                2            0                0.175567   \n",
              "\n",
              "   AverageTransactionAmount  TransactionCount  StdDevTransactionAmount  \n",
              "0                 -0.067623               119              3042.294251  \n",
              "1                 -0.067623               119              3042.294251  \n",
              "2                 -0.072568                 2                 0.000000  \n",
              "3                 -0.008155                38             17169.241610  \n",
              "4                 -0.008155                38             17169.241610  "
            ]
          },
          "execution_count": 32,
          "metadata": {},
          "output_type": "execute_result"
        }
      ],
      "source": [
        "data.head()"
      ]
    },
    {
      "cell_type": "code",
      "execution_count": null,
      "metadata": {},
      "outputs": [],
      "source": [
        "data.to_csv(\"filtered.csv\", index=False)"
      ]
    },
    {
      "cell_type": "code",
      "execution_count": 20,
      "metadata": {},
      "outputs": [
        {
          "name": "stderr",
          "output_type": "stream",
          "text": [
            "c:\\Users\\Aman\\Desktop\\kifyaw6\\.venv\\Lib\\site-packages\\sklearn\\utils\\deprecation.py:151: FutureWarning: 'force_all_finite' was renamed to 'ensure_all_finite' in 1.6 and will be removed in 1.8.\n",
            "  warnings.warn(\n",
            "c:\\Users\\Aman\\Desktop\\kifyaw6\\.venv\\Lib\\site-packages\\xverse\\transformer\\_binning.py:159: FutureWarning: The default of observed=False is deprecated and will be changed to True in a future version of pandas. Pass observed=False to retain current behavior or observed=True to adopt the future default and silence this warning.\n",
            "  bins_X_grouped = bins_X.groupby('Bins', as_index=True)\n",
            "c:\\Users\\Aman\\Desktop\\kifyaw6\\.venv\\Lib\\site-packages\\xverse\\transformer\\_binning.py:159: FutureWarning: The default of observed=False is deprecated and will be changed to True in a future version of pandas. Pass observed=False to retain current behavior or observed=True to adopt the future default and silence this warning.\n",
            "  bins_X_grouped = bins_X.groupby('Bins', as_index=True)\n",
            "c:\\Users\\Aman\\Desktop\\kifyaw6\\.venv\\Lib\\site-packages\\xverse\\transformer\\_binning.py:159: FutureWarning: The default of observed=False is deprecated and will be changed to True in a future version of pandas. Pass observed=False to retain current behavior or observed=True to adopt the future default and silence this warning.\n",
            "  bins_X_grouped = bins_X.groupby('Bins', as_index=True)\n",
            "c:\\Users\\Aman\\Desktop\\kifyaw6\\.venv\\Lib\\site-packages\\xverse\\transformer\\_binning.py:159: FutureWarning: The default of observed=False is deprecated and will be changed to True in a future version of pandas. Pass observed=False to retain current behavior or observed=True to adopt the future default and silence this warning.\n",
            "  bins_X_grouped = bins_X.groupby('Bins', as_index=True)\n",
            "c:\\Users\\Aman\\Desktop\\kifyaw6\\.venv\\Lib\\site-packages\\xverse\\transformer\\_binning.py:159: FutureWarning: The default of observed=False is deprecated and will be changed to True in a future version of pandas. Pass observed=False to retain current behavior or observed=True to adopt the future default and silence this warning.\n",
            "  bins_X_grouped = bins_X.groupby('Bins', as_index=True)\n",
            "c:\\Users\\Aman\\Desktop\\kifyaw6\\.venv\\Lib\\site-packages\\xverse\\transformer\\_binning.py:159: FutureWarning: The default of observed=False is deprecated and will be changed to True in a future version of pandas. Pass observed=False to retain current behavior or observed=True to adopt the future default and silence this warning.\n",
            "  bins_X_grouped = bins_X.groupby('Bins', as_index=True)\n"
          ]
        },
        {
          "ename": "AttributeError",
          "evalue": "module 'pandas.core.algorithms' has no attribute 'quantile'",
          "output_type": "error",
          "traceback": [
            "\u001b[1;31m---------------------------------------------------------------------------\u001b[0m",
            "\u001b[1;31mAttributeError\u001b[0m                            Traceback (most recent call last)",
            "Cell \u001b[1;32mIn[20], line 18\u001b[0m\n\u001b[0;32m     16\u001b[0m \u001b[38;5;66;03m# Initialize and apply WOE transformation\u001b[39;00m\n\u001b[0;32m     17\u001b[0m woe \u001b[38;5;241m=\u001b[39m WOE()\n\u001b[1;32m---> 18\u001b[0m data_woe \u001b[38;5;241m=\u001b[39m \u001b[43mwoe\u001b[49m\u001b[38;5;241;43m.\u001b[39;49m\u001b[43mfit_transform\u001b[49m\u001b[43m(\u001b[49m\u001b[43mdata\u001b[49m\u001b[38;5;241;43m.\u001b[39;49m\u001b[43mdrop\u001b[49m\u001b[43m(\u001b[49m\u001b[43mcolumns\u001b[49m\u001b[38;5;241;43m=\u001b[39;49m\u001b[43m[\u001b[49m\u001b[43mtarget\u001b[49m\u001b[43m]\u001b[49m\u001b[43m)\u001b[49m\u001b[43m,\u001b[49m\u001b[43m \u001b[49m\u001b[43mdata\u001b[49m\u001b[43m[\u001b[49m\u001b[43mtarget\u001b[49m\u001b[43m]\u001b[49m\u001b[43m)\u001b[49m\n\u001b[0;32m     20\u001b[0m \u001b[38;5;28mprint\u001b[39m(data_woe\u001b[38;5;241m.\u001b[39mhead())  \u001b[38;5;66;03m# Check the transformed output\u001b[39;00m\n",
            "File \u001b[1;32mc:\\Users\\Aman\\Desktop\\kifyaw6\\.venv\\Lib\\site-packages\\sklearn\\utils\\_set_output.py:319\u001b[0m, in \u001b[0;36m_wrap_method_output.<locals>.wrapped\u001b[1;34m(self, X, *args, **kwargs)\u001b[0m\n\u001b[0;32m    317\u001b[0m \u001b[38;5;129m@wraps\u001b[39m(f)\n\u001b[0;32m    318\u001b[0m \u001b[38;5;28;01mdef\u001b[39;00m\u001b[38;5;250m \u001b[39m\u001b[38;5;21mwrapped\u001b[39m(\u001b[38;5;28mself\u001b[39m, X, \u001b[38;5;241m*\u001b[39margs, \u001b[38;5;241m*\u001b[39m\u001b[38;5;241m*\u001b[39mkwargs):\n\u001b[1;32m--> 319\u001b[0m     data_to_wrap \u001b[38;5;241m=\u001b[39m \u001b[43mf\u001b[49m\u001b[43m(\u001b[49m\u001b[38;5;28;43mself\u001b[39;49m\u001b[43m,\u001b[49m\u001b[43m \u001b[49m\u001b[43mX\u001b[49m\u001b[43m,\u001b[49m\u001b[43m \u001b[49m\u001b[38;5;241;43m*\u001b[39;49m\u001b[43margs\u001b[49m\u001b[43m,\u001b[49m\u001b[43m \u001b[49m\u001b[38;5;241;43m*\u001b[39;49m\u001b[38;5;241;43m*\u001b[39;49m\u001b[43mkwargs\u001b[49m\u001b[43m)\u001b[49m\n\u001b[0;32m    320\u001b[0m     \u001b[38;5;28;01mif\u001b[39;00m \u001b[38;5;28misinstance\u001b[39m(data_to_wrap, \u001b[38;5;28mtuple\u001b[39m):\n\u001b[0;32m    321\u001b[0m         \u001b[38;5;66;03m# only wrap the first output for cross decomposition\u001b[39;00m\n\u001b[0;32m    322\u001b[0m         return_tuple \u001b[38;5;241m=\u001b[39m (\n\u001b[0;32m    323\u001b[0m             _wrap_data_with_container(method, data_to_wrap[\u001b[38;5;241m0\u001b[39m], X, \u001b[38;5;28mself\u001b[39m),\n\u001b[0;32m    324\u001b[0m             \u001b[38;5;241m*\u001b[39mdata_to_wrap[\u001b[38;5;241m1\u001b[39m:],\n\u001b[0;32m    325\u001b[0m         )\n",
            "File \u001b[1;32mc:\\Users\\Aman\\Desktop\\kifyaw6\\.venv\\Lib\\site-packages\\xverse\\transformer\\_woe.py:317\u001b[0m, in \u001b[0;36mWOE.fit_transform\u001b[1;34m(self, X, y)\u001b[0m\n\u001b[0;32m    316\u001b[0m \u001b[38;5;28;01mdef\u001b[39;00m\u001b[38;5;250m \u001b[39m\u001b[38;5;21mfit_transform\u001b[39m(\u001b[38;5;28mself\u001b[39m, X, y):\n\u001b[1;32m--> 317\u001b[0m     \u001b[38;5;28;01mreturn\u001b[39;00m \u001b[38;5;28;43mself\u001b[39;49m\u001b[38;5;241;43m.\u001b[39;49m\u001b[43mfit\u001b[49m\u001b[43m(\u001b[49m\u001b[43mX\u001b[49m\u001b[43m,\u001b[49m\u001b[43m \u001b[49m\u001b[43my\u001b[49m\u001b[43m)\u001b[49m\u001b[38;5;241m.\u001b[39mtransform(X)\n",
            "File \u001b[1;32mc:\\Users\\Aman\\Desktop\\kifyaw6\\.venv\\Lib\\site-packages\\xverse\\transformer\\_woe.py:137\u001b[0m, in \u001b[0;36mWOE.fit\u001b[1;34m(self, X, y)\u001b[0m\n\u001b[0;32m    132\u001b[0m \u001b[38;5;28;01mif\u001b[39;00m \u001b[38;5;28mself\u001b[39m\u001b[38;5;241m.\u001b[39mmonotonic_binning:\n\u001b[0;32m    133\u001b[0m     \u001b[38;5;28mself\u001b[39m\u001b[38;5;241m.\u001b[39mmono_bin_clf \u001b[38;5;241m=\u001b[39m MonotonicBinning(feature_names\u001b[38;5;241m=\u001b[39m\u001b[38;5;28mself\u001b[39m\u001b[38;5;241m.\u001b[39mmono_feature_names, \n\u001b[0;32m    134\u001b[0m                                     max_bins\u001b[38;5;241m=\u001b[39m\u001b[38;5;28mself\u001b[39m\u001b[38;5;241m.\u001b[39mmono_max_bins, force_bins\u001b[38;5;241m=\u001b[39m\u001b[38;5;28mself\u001b[39m\u001b[38;5;241m.\u001b[39mmono_force_bins,\n\u001b[0;32m    135\u001b[0m                                     cardinality_cutoff\u001b[38;5;241m=\u001b[39m\u001b[38;5;28mself\u001b[39m\u001b[38;5;241m.\u001b[39mmono_cardinality_cutoff, \n\u001b[0;32m    136\u001b[0m                                     prefix\u001b[38;5;241m=\u001b[39m\u001b[38;5;28mself\u001b[39m\u001b[38;5;241m.\u001b[39mmono_prefix, custom_binning\u001b[38;5;241m=\u001b[39m\u001b[38;5;28mself\u001b[39m\u001b[38;5;241m.\u001b[39mmono_custom_binning)\n\u001b[1;32m--> 137\u001b[0m     X \u001b[38;5;241m=\u001b[39m \u001b[38;5;28;43mself\u001b[39;49m\u001b[38;5;241;43m.\u001b[39;49m\u001b[43mmono_bin_clf\u001b[49m\u001b[38;5;241;43m.\u001b[39;49m\u001b[43mfit_transform\u001b[49m\u001b[43m(\u001b[49m\u001b[43mX\u001b[49m\u001b[43m,\u001b[49m\u001b[43m \u001b[49m\u001b[43my\u001b[49m\u001b[43m)\u001b[49m\n\u001b[0;32m    138\u001b[0m     \u001b[38;5;28mself\u001b[39m\u001b[38;5;241m.\u001b[39mmono_custom_binning \u001b[38;5;241m=\u001b[39m \u001b[38;5;28mself\u001b[39m\u001b[38;5;241m.\u001b[39mmono_bin_clf\u001b[38;5;241m.\u001b[39mbins\n\u001b[0;32m    140\u001b[0m \u001b[38;5;66;03m#identify the variables to tranform and assign the bin mapping dictionary\u001b[39;00m\n",
            "File \u001b[1;32mc:\\Users\\Aman\\Desktop\\kifyaw6\\.venv\\Lib\\site-packages\\sklearn\\utils\\_set_output.py:319\u001b[0m, in \u001b[0;36m_wrap_method_output.<locals>.wrapped\u001b[1;34m(self, X, *args, **kwargs)\u001b[0m\n\u001b[0;32m    317\u001b[0m \u001b[38;5;129m@wraps\u001b[39m(f)\n\u001b[0;32m    318\u001b[0m \u001b[38;5;28;01mdef\u001b[39;00m\u001b[38;5;250m \u001b[39m\u001b[38;5;21mwrapped\u001b[39m(\u001b[38;5;28mself\u001b[39m, X, \u001b[38;5;241m*\u001b[39margs, \u001b[38;5;241m*\u001b[39m\u001b[38;5;241m*\u001b[39mkwargs):\n\u001b[1;32m--> 319\u001b[0m     data_to_wrap \u001b[38;5;241m=\u001b[39m \u001b[43mf\u001b[49m\u001b[43m(\u001b[49m\u001b[38;5;28;43mself\u001b[39;49m\u001b[43m,\u001b[49m\u001b[43m \u001b[49m\u001b[43mX\u001b[49m\u001b[43m,\u001b[49m\u001b[43m \u001b[49m\u001b[38;5;241;43m*\u001b[39;49m\u001b[43margs\u001b[49m\u001b[43m,\u001b[49m\u001b[43m \u001b[49m\u001b[38;5;241;43m*\u001b[39;49m\u001b[38;5;241;43m*\u001b[39;49m\u001b[43mkwargs\u001b[49m\u001b[43m)\u001b[49m\n\u001b[0;32m    320\u001b[0m     \u001b[38;5;28;01mif\u001b[39;00m \u001b[38;5;28misinstance\u001b[39m(data_to_wrap, \u001b[38;5;28mtuple\u001b[39m):\n\u001b[0;32m    321\u001b[0m         \u001b[38;5;66;03m# only wrap the first output for cross decomposition\u001b[39;00m\n\u001b[0;32m    322\u001b[0m         return_tuple \u001b[38;5;241m=\u001b[39m (\n\u001b[0;32m    323\u001b[0m             _wrap_data_with_container(method, data_to_wrap[\u001b[38;5;241m0\u001b[39m], X, \u001b[38;5;28mself\u001b[39m),\n\u001b[0;32m    324\u001b[0m             \u001b[38;5;241m*\u001b[39mdata_to_wrap[\u001b[38;5;241m1\u001b[39m:],\n\u001b[0;32m    325\u001b[0m         )\n",
            "File \u001b[1;32mc:\\Users\\Aman\\Desktop\\kifyaw6\\.venv\\Lib\\site-packages\\xverse\\transformer\\_binning.py:257\u001b[0m, in \u001b[0;36mMonotonicBinning.fit_transform\u001b[1;34m(self, X, y)\u001b[0m\n\u001b[0;32m    256\u001b[0m \u001b[38;5;28;01mdef\u001b[39;00m\u001b[38;5;250m \u001b[39m\u001b[38;5;21mfit_transform\u001b[39m(\u001b[38;5;28mself\u001b[39m, X, y):\n\u001b[1;32m--> 257\u001b[0m     \u001b[38;5;28;01mreturn\u001b[39;00m \u001b[38;5;28;43mself\u001b[39;49m\u001b[38;5;241;43m.\u001b[39;49m\u001b[43mfit\u001b[49m\u001b[43m(\u001b[49m\u001b[43mX\u001b[49m\u001b[43m,\u001b[49m\u001b[43m \u001b[49m\u001b[43my\u001b[49m\u001b[43m)\u001b[49m\u001b[38;5;241m.\u001b[39mtransform(X)\n",
            "File \u001b[1;32mc:\\Users\\Aman\\Desktop\\kifyaw6\\.venv\\Lib\\site-packages\\xverse\\transformer\\_binning.py:122\u001b[0m, in \u001b[0;36mMonotonicBinning.fit\u001b[1;34m(self, X, y)\u001b[0m\n\u001b[0;32m    118\u001b[0m     \u001b[38;5;28;01mraise\u001b[39;00m \u001b[38;5;167;01mValueError\u001b[39;00m(\u001b[38;5;124m\"\u001b[39m\u001b[38;5;124mThe input feature(s) should be numeric type. Some of the input features \u001b[39m\u001b[38;5;130;01m\\\u001b[39;00m\n\u001b[0;32m    119\u001b[0m \u001b[38;5;124m                    has character values in it. Please use a encoder before performing monotonic operations.\u001b[39m\u001b[38;5;124m\"\u001b[39m)\n\u001b[0;32m    121\u001b[0m \u001b[38;5;66;03m#apply the monotonic train function on dataset\u001b[39;00m\n\u001b[1;32m--> 122\u001b[0m \u001b[43mfit_X\u001b[49m\u001b[38;5;241;43m.\u001b[39;49m\u001b[43mapply\u001b[49m\u001b[43m(\u001b[49m\u001b[38;5;28;43;01mlambda\u001b[39;49;00m\u001b[43m \u001b[49m\u001b[43mx\u001b[49m\u001b[43m:\u001b[49m\u001b[43m \u001b[49m\u001b[38;5;28;43mself\u001b[39;49m\u001b[38;5;241;43m.\u001b[39;49m\u001b[43mtrain\u001b[49m\u001b[43m(\u001b[49m\u001b[43mx\u001b[49m\u001b[43m,\u001b[49m\u001b[43m \u001b[49m\u001b[43my\u001b[49m\u001b[43m)\u001b[49m\u001b[43m,\u001b[49m\u001b[43m \u001b[49m\u001b[43maxis\u001b[49m\u001b[38;5;241;43m=\u001b[39;49m\u001b[38;5;241;43m0\u001b[39;49m\u001b[43m)\u001b[49m\n\u001b[0;32m    123\u001b[0m \u001b[38;5;28;01mreturn\u001b[39;00m \u001b[38;5;28mself\u001b[39m\n",
            "File \u001b[1;32mc:\\Users\\Aman\\Desktop\\kifyaw6\\.venv\\Lib\\site-packages\\pandas\\core\\frame.py:10374\u001b[0m, in \u001b[0;36mDataFrame.apply\u001b[1;34m(self, func, axis, raw, result_type, args, by_row, engine, engine_kwargs, **kwargs)\u001b[0m\n\u001b[0;32m  10360\u001b[0m \u001b[38;5;28;01mfrom\u001b[39;00m\u001b[38;5;250m \u001b[39m\u001b[38;5;21;01mpandas\u001b[39;00m\u001b[38;5;21;01m.\u001b[39;00m\u001b[38;5;21;01mcore\u001b[39;00m\u001b[38;5;21;01m.\u001b[39;00m\u001b[38;5;21;01mapply\u001b[39;00m\u001b[38;5;250m \u001b[39m\u001b[38;5;28;01mimport\u001b[39;00m frame_apply\n\u001b[0;32m  10362\u001b[0m op \u001b[38;5;241m=\u001b[39m frame_apply(\n\u001b[0;32m  10363\u001b[0m     \u001b[38;5;28mself\u001b[39m,\n\u001b[0;32m  10364\u001b[0m     func\u001b[38;5;241m=\u001b[39mfunc,\n\u001b[1;32m   (...)\u001b[0m\n\u001b[0;32m  10372\u001b[0m     kwargs\u001b[38;5;241m=\u001b[39mkwargs,\n\u001b[0;32m  10373\u001b[0m )\n\u001b[1;32m> 10374\u001b[0m \u001b[38;5;28;01mreturn\u001b[39;00m \u001b[43mop\u001b[49m\u001b[38;5;241;43m.\u001b[39;49m\u001b[43mapply\u001b[49m\u001b[43m(\u001b[49m\u001b[43m)\u001b[49m\u001b[38;5;241m.\u001b[39m__finalize__(\u001b[38;5;28mself\u001b[39m, method\u001b[38;5;241m=\u001b[39m\u001b[38;5;124m\"\u001b[39m\u001b[38;5;124mapply\u001b[39m\u001b[38;5;124m\"\u001b[39m)\n",
            "File \u001b[1;32mc:\\Users\\Aman\\Desktop\\kifyaw6\\.venv\\Lib\\site-packages\\pandas\\core\\apply.py:916\u001b[0m, in \u001b[0;36mFrameApply.apply\u001b[1;34m(self)\u001b[0m\n\u001b[0;32m    913\u001b[0m \u001b[38;5;28;01melif\u001b[39;00m \u001b[38;5;28mself\u001b[39m\u001b[38;5;241m.\u001b[39mraw:\n\u001b[0;32m    914\u001b[0m     \u001b[38;5;28;01mreturn\u001b[39;00m \u001b[38;5;28mself\u001b[39m\u001b[38;5;241m.\u001b[39mapply_raw(engine\u001b[38;5;241m=\u001b[39m\u001b[38;5;28mself\u001b[39m\u001b[38;5;241m.\u001b[39mengine, engine_kwargs\u001b[38;5;241m=\u001b[39m\u001b[38;5;28mself\u001b[39m\u001b[38;5;241m.\u001b[39mengine_kwargs)\n\u001b[1;32m--> 916\u001b[0m \u001b[38;5;28;01mreturn\u001b[39;00m \u001b[38;5;28;43mself\u001b[39;49m\u001b[38;5;241;43m.\u001b[39;49m\u001b[43mapply_standard\u001b[49m\u001b[43m(\u001b[49m\u001b[43m)\u001b[49m\n",
            "File \u001b[1;32mc:\\Users\\Aman\\Desktop\\kifyaw6\\.venv\\Lib\\site-packages\\pandas\\core\\apply.py:1063\u001b[0m, in \u001b[0;36mFrameApply.apply_standard\u001b[1;34m(self)\u001b[0m\n\u001b[0;32m   1061\u001b[0m \u001b[38;5;28;01mdef\u001b[39;00m\u001b[38;5;250m \u001b[39m\u001b[38;5;21mapply_standard\u001b[39m(\u001b[38;5;28mself\u001b[39m):\n\u001b[0;32m   1062\u001b[0m     \u001b[38;5;28;01mif\u001b[39;00m \u001b[38;5;28mself\u001b[39m\u001b[38;5;241m.\u001b[39mengine \u001b[38;5;241m==\u001b[39m \u001b[38;5;124m\"\u001b[39m\u001b[38;5;124mpython\u001b[39m\u001b[38;5;124m\"\u001b[39m:\n\u001b[1;32m-> 1063\u001b[0m         results, res_index \u001b[38;5;241m=\u001b[39m \u001b[38;5;28;43mself\u001b[39;49m\u001b[38;5;241;43m.\u001b[39;49m\u001b[43mapply_series_generator\u001b[49m\u001b[43m(\u001b[49m\u001b[43m)\u001b[49m\n\u001b[0;32m   1064\u001b[0m     \u001b[38;5;28;01melse\u001b[39;00m:\n\u001b[0;32m   1065\u001b[0m         results, res_index \u001b[38;5;241m=\u001b[39m \u001b[38;5;28mself\u001b[39m\u001b[38;5;241m.\u001b[39mapply_series_numba()\n",
            "File \u001b[1;32mc:\\Users\\Aman\\Desktop\\kifyaw6\\.venv\\Lib\\site-packages\\pandas\\core\\apply.py:1081\u001b[0m, in \u001b[0;36mFrameApply.apply_series_generator\u001b[1;34m(self)\u001b[0m\n\u001b[0;32m   1078\u001b[0m \u001b[38;5;28;01mwith\u001b[39;00m option_context(\u001b[38;5;124m\"\u001b[39m\u001b[38;5;124mmode.chained_assignment\u001b[39m\u001b[38;5;124m\"\u001b[39m, \u001b[38;5;28;01mNone\u001b[39;00m):\n\u001b[0;32m   1079\u001b[0m     \u001b[38;5;28;01mfor\u001b[39;00m i, v \u001b[38;5;129;01min\u001b[39;00m \u001b[38;5;28menumerate\u001b[39m(series_gen):\n\u001b[0;32m   1080\u001b[0m         \u001b[38;5;66;03m# ignore SettingWithCopy here in case the user mutates\u001b[39;00m\n\u001b[1;32m-> 1081\u001b[0m         results[i] \u001b[38;5;241m=\u001b[39m \u001b[38;5;28;43mself\u001b[39;49m\u001b[38;5;241;43m.\u001b[39;49m\u001b[43mfunc\u001b[49m\u001b[43m(\u001b[49m\u001b[43mv\u001b[49m\u001b[43m,\u001b[49m\u001b[43m \u001b[49m\u001b[38;5;241;43m*\u001b[39;49m\u001b[38;5;28;43mself\u001b[39;49m\u001b[38;5;241;43m.\u001b[39;49m\u001b[43margs\u001b[49m\u001b[43m,\u001b[49m\u001b[43m \u001b[49m\u001b[38;5;241;43m*\u001b[39;49m\u001b[38;5;241;43m*\u001b[39;49m\u001b[38;5;28;43mself\u001b[39;49m\u001b[38;5;241;43m.\u001b[39;49m\u001b[43mkwargs\u001b[49m\u001b[43m)\u001b[49m\n\u001b[0;32m   1082\u001b[0m         \u001b[38;5;28;01mif\u001b[39;00m \u001b[38;5;28misinstance\u001b[39m(results[i], ABCSeries):\n\u001b[0;32m   1083\u001b[0m             \u001b[38;5;66;03m# If we have a view on v, we need to make a copy because\u001b[39;00m\n\u001b[0;32m   1084\u001b[0m             \u001b[38;5;66;03m#  series_generator will swap out the underlying data\u001b[39;00m\n\u001b[0;32m   1085\u001b[0m             results[i] \u001b[38;5;241m=\u001b[39m results[i]\u001b[38;5;241m.\u001b[39mcopy(deep\u001b[38;5;241m=\u001b[39m\u001b[38;5;28;01mFalse\u001b[39;00m)\n",
            "File \u001b[1;32mc:\\Users\\Aman\\Desktop\\kifyaw6\\.venv\\Lib\\site-packages\\xverse\\transformer\\_binning.py:122\u001b[0m, in \u001b[0;36mMonotonicBinning.fit.<locals>.<lambda>\u001b[1;34m(x)\u001b[0m\n\u001b[0;32m    118\u001b[0m     \u001b[38;5;28;01mraise\u001b[39;00m \u001b[38;5;167;01mValueError\u001b[39;00m(\u001b[38;5;124m\"\u001b[39m\u001b[38;5;124mThe input feature(s) should be numeric type. Some of the input features \u001b[39m\u001b[38;5;130;01m\\\u001b[39;00m\n\u001b[0;32m    119\u001b[0m \u001b[38;5;124m                    has character values in it. Please use a encoder before performing monotonic operations.\u001b[39m\u001b[38;5;124m\"\u001b[39m)\n\u001b[0;32m    121\u001b[0m \u001b[38;5;66;03m#apply the monotonic train function on dataset\u001b[39;00m\n\u001b[1;32m--> 122\u001b[0m fit_X\u001b[38;5;241m.\u001b[39mapply(\u001b[38;5;28;01mlambda\u001b[39;00m x: \u001b[38;5;28;43mself\u001b[39;49m\u001b[38;5;241;43m.\u001b[39;49m\u001b[43mtrain\u001b[49m\u001b[43m(\u001b[49m\u001b[43mx\u001b[49m\u001b[43m,\u001b[49m\u001b[43m \u001b[49m\u001b[43my\u001b[49m\u001b[43m)\u001b[49m, axis\u001b[38;5;241m=\u001b[39m\u001b[38;5;241m0\u001b[39m)\n\u001b[0;32m    123\u001b[0m \u001b[38;5;28;01mreturn\u001b[39;00m \u001b[38;5;28mself\u001b[39m\n",
            "File \u001b[1;32mc:\\Users\\Aman\\Desktop\\kifyaw6\\.venv\\Lib\\site-packages\\xverse\\transformer\\_binning.py:170\u001b[0m, in \u001b[0;36mMonotonicBinning.train\u001b[1;34m(self, X, y)\u001b[0m\n\u001b[0;32m    165\u001b[0m \u001b[38;5;250m\u001b[39m\u001b[38;5;124;03m\"\"\"\u001b[39;00m\n\u001b[0;32m    166\u001b[0m \u001b[38;5;124;03mExecute this block when monotonic relationship is not identified by spearman technique. \u001b[39;00m\n\u001b[0;32m    167\u001b[0m \u001b[38;5;124;03mWe still want our code to produce bins.\u001b[39;00m\n\u001b[0;32m    168\u001b[0m \u001b[38;5;124;03m\"\"\"\u001b[39;00m\n\u001b[0;32m    169\u001b[0m \u001b[38;5;28;01mif\u001b[39;00m \u001b[38;5;28mlen\u001b[39m(bins_X_grouped) \u001b[38;5;241m==\u001b[39m \u001b[38;5;241m1\u001b[39m:\n\u001b[1;32m--> 170\u001b[0m     bins \u001b[38;5;241m=\u001b[39m \u001b[43malgos\u001b[49m\u001b[38;5;241;43m.\u001b[39;49m\u001b[43mquantile\u001b[49m(X, np\u001b[38;5;241m.\u001b[39mlinspace(\u001b[38;5;241m0\u001b[39m, \u001b[38;5;241m1\u001b[39m, force_bins)) \u001b[38;5;66;03m#creates a new binnning based on forced bins\u001b[39;00m\n\u001b[0;32m    171\u001b[0m     \u001b[38;5;28;01mif\u001b[39;00m \u001b[38;5;28mlen\u001b[39m(np\u001b[38;5;241m.\u001b[39munique(bins)) \u001b[38;5;241m==\u001b[39m \u001b[38;5;241m2\u001b[39m:\n\u001b[0;32m    172\u001b[0m         bins \u001b[38;5;241m=\u001b[39m np\u001b[38;5;241m.\u001b[39minsert(bins, \u001b[38;5;241m0\u001b[39m, \u001b[38;5;241m1\u001b[39m)\n",
            "\u001b[1;31mAttributeError\u001b[0m: module 'pandas.core.algorithms' has no attribute 'quantile'"
          ]
        }
      ],
      "source": []
    },
    {
      "cell_type": "code",
      "execution_count": null,
      "metadata": {},
      "outputs": [],
      "source": []
    }
  ],
  "metadata": {
    "colab": {
      "provenance": []
    },
    "kernelspec": {
      "display_name": ".venv",
      "language": "python",
      "name": "python3"
    },
    "language_info": {
      "codemirror_mode": {
        "name": "ipython",
        "version": 3
      },
      "file_extension": ".py",
      "mimetype": "text/x-python",
      "name": "python",
      "nbconvert_exporter": "python",
      "pygments_lexer": "ipython3",
      "version": "3.11.9"
    }
  },
  "nbformat": 4,
  "nbformat_minor": 0
}
